{
 "cells": [
  {
   "cell_type": "code",
   "execution_count": 18,
   "id": "7538959c-754d-42a2-ab9a-bd4976a2fed5",
   "metadata": {},
   "outputs": [],
   "source": [
    "import pandas as pd\n",
    "import numpy as np\n",
    "import os\n",
    "import random"
   ]
  },
  {
   "cell_type": "code",
   "execution_count": 19,
   "id": "32a5ba82-3048-4d1a-b90d-82768141f221",
   "metadata": {},
   "outputs": [],
   "source": [
    "data = pd.read_csv('../CA/Other_method/result.csv')"
   ]
  },
  {
   "cell_type": "markdown",
   "id": "b44c72b7-bb07-4058-87ea-de61b5fcb3a8",
   "metadata": {},
   "source": [
    "## Surrogate model\n",
    "### data preprocessing"
   ]
  },
  {
   "cell_type": "code",
   "execution_count": 310,
   "id": "6229f391-479d-4f10-bd31-9ed6e63c9129",
   "metadata": {},
   "outputs": [
    {
     "data": {
      "text/html": [
       "<div>\n",
       "<style scoped>\n",
       "    .dataframe tbody tr th:only-of-type {\n",
       "        vertical-align: middle;\n",
       "    }\n",
       "\n",
       "    .dataframe tbody tr th {\n",
       "        vertical-align: top;\n",
       "    }\n",
       "\n",
       "    .dataframe thead th {\n",
       "        text-align: right;\n",
       "    }\n",
       "</style>\n",
       "<table border=\"1\" class=\"dataframe\">\n",
       "  <thead>\n",
       "    <tr style=\"text-align: right;\">\n",
       "      <th></th>\n",
       "      <th>g_time</th>\n",
       "      <th>act</th>\n",
       "      <th>g_per</th>\n",
       "      <th>rmse_Y3</th>\n",
       "      <th>rmse_Y1</th>\n",
       "      <th>rmse_Y2</th>\n",
       "      <th>rmse_Y3_test</th>\n",
       "      <th>rmse_Y1_test</th>\n",
       "      <th>rmse_Y2_test</th>\n",
       "    </tr>\n",
       "  </thead>\n",
       "  <tbody>\n",
       "    <tr>\n",
       "      <th>0</th>\n",
       "      <td>30</td>\n",
       "      <td>0.05</td>\n",
       "      <td>0.1</td>\n",
       "      <td>6.748237</td>\n",
       "      <td>1.227077</td>\n",
       "      <td>1.823021</td>\n",
       "      <td>8.540450</td>\n",
       "      <td>1.854858</td>\n",
       "      <td>3.749179</td>\n",
       "    </tr>\n",
       "    <tr>\n",
       "      <th>1</th>\n",
       "      <td>30</td>\n",
       "      <td>0.05</td>\n",
       "      <td>0.2</td>\n",
       "      <td>4.289127</td>\n",
       "      <td>1.396292</td>\n",
       "      <td>2.220120</td>\n",
       "      <td>5.684172</td>\n",
       "      <td>1.170235</td>\n",
       "      <td>2.544679</td>\n",
       "    </tr>\n",
       "    <tr>\n",
       "      <th>2</th>\n",
       "      <td>30</td>\n",
       "      <td>0.05</td>\n",
       "      <td>0.3</td>\n",
       "      <td>6.057574</td>\n",
       "      <td>1.847569</td>\n",
       "      <td>2.221120</td>\n",
       "      <td>7.564624</td>\n",
       "      <td>2.307075</td>\n",
       "      <td>3.662435</td>\n",
       "    </tr>\n",
       "    <tr>\n",
       "      <th>3</th>\n",
       "      <td>30</td>\n",
       "      <td>0.05</td>\n",
       "      <td>0.4</td>\n",
       "      <td>5.006639</td>\n",
       "      <td>1.812709</td>\n",
       "      <td>2.542025</td>\n",
       "      <td>5.954443</td>\n",
       "      <td>1.582546</td>\n",
       "      <td>2.615103</td>\n",
       "    </tr>\n",
       "    <tr>\n",
       "      <th>4</th>\n",
       "      <td>30</td>\n",
       "      <td>0.05</td>\n",
       "      <td>0.5</td>\n",
       "      <td>3.923151</td>\n",
       "      <td>2.086422</td>\n",
       "      <td>2.970780</td>\n",
       "      <td>4.566449</td>\n",
       "      <td>1.628368</td>\n",
       "      <td>2.307886</td>\n",
       "    </tr>\n",
       "  </tbody>\n",
       "</table>\n",
       "</div>"
      ],
      "text/plain": [
       "   g_time   act  g_per   rmse_Y3   rmse_Y1   rmse_Y2  rmse_Y3_test  \\\n",
       "0      30  0.05    0.1  6.748237  1.227077  1.823021      8.540450   \n",
       "1      30  0.05    0.2  4.289127  1.396292  2.220120      5.684172   \n",
       "2      30  0.05    0.3  6.057574  1.847569  2.221120      7.564624   \n",
       "3      30  0.05    0.4  5.006639  1.812709  2.542025      5.954443   \n",
       "4      30  0.05    0.5  3.923151  2.086422  2.970780      4.566449   \n",
       "\n",
       "   rmse_Y1_test  rmse_Y2_test  \n",
       "0      1.854858      3.749179  \n",
       "1      1.170235      2.544679  \n",
       "2      2.307075      3.662435  \n",
       "3      1.582546      2.615103  \n",
       "4      1.628368      2.307886  "
      ]
     },
     "execution_count": 310,
     "metadata": {},
     "output_type": "execute_result"
    }
   ],
   "source": [
    "# data\n",
    "data_agg = data.drop(columns=['Unnamed: 0.1', 'Unnamed: 0', 'y1', 'y2', 'y3']).groupby(['g_time', 'act', 'g_per']).mean().reset_index()\n",
    "data_agg.head()"
   ]
  },
  {
   "cell_type": "markdown",
   "id": "155c9a98-3806-4e32-916e-e1a4181584ce",
   "metadata": {},
   "source": [
    "### random forest"
   ]
  },
  {
   "cell_type": "code",
   "execution_count": 311,
   "id": "4887c515-d3c5-4810-bd06-5d3f644e4d1c",
   "metadata": {
    "tags": []
   },
   "outputs": [],
   "source": [
    "from sklearn.model_selection import cross_val_score, GridSearchCV\n",
    "from sklearn.ensemble import RandomForestRegressor\n",
    "\n",
    "def randomForest(data_agg, y_column):\n",
    "    # feature와 target 설정\n",
    "    X = data_agg[['g_time', 'act', 'g_per']]\n",
    "    y = data_agg[y_column]\n",
    "\n",
    "    # 하이퍼파라미터 그리드 설정\n",
    "    param_grid = {\n",
    "        'n_estimators': [10, 50, 100, 200],\n",
    "        'max_depth': [3, 5, 7, 10],\n",
    "        'min_samples_split': [2, 5, 10],\n",
    "        'min_samples_leaf': [1, 2, 4]\n",
    "    }\n",
    "\n",
    "    # GridSearchCV를 사용하여 하이퍼파라미터 최적화\n",
    "    rf = RandomForestRegressor(random_state=42)\n",
    "    grid_search = GridSearchCV(rf, param_grid, cv=5, n_jobs=-1)\n",
    "    grid_search.fit(X, y)\n",
    "\n",
    "    # 최적 하이퍼파라미터 출력\n",
    "    print(\"Y: \", y_column, \", Best hyperparameters:\", grid_search.best_params_)\n",
    "\n",
    "    # 각 하이퍼파라미터 조합에 대한 교차 검증 점수 출력\n",
    "    # means = grid_search.cv_results_['mean_test_score']\n",
    "    # stds = grid_search.cv_results_['std_test_score']\n",
    "    # for mean, std, params in zip(means, stds, grid_search.cv_results_['params']):\n",
    "    #     print(f\"Mean RMSE: {mean:.3f} (±{std:.3f}) with: {params}\")\n",
    "\n",
    "    # 최적 하이퍼파라미터 조합으로 모델 학습 및 예측\n",
    "    rf_best = RandomForestRegressor(**grid_search.best_params_, random_state=42)\n",
    "    rf_best.fit(X, y)\n",
    "    y_pred_train = rf_best.predict(X)\n",
    "\n",
    "    # 예측 결과를 새로운 컬럼으로 추가\n",
    "    data_agg[y_column + '_pred'] = y_pred_train"
   ]
  },
  {
   "cell_type": "code",
   "execution_count": 312,
   "id": "7fd5d43d-4639-4b45-ad8f-0594fed45d0f",
   "metadata": {},
   "outputs": [
    {
     "name": "stdout",
     "output_type": "stream",
     "text": [
      "Y:  rmse_Y1 , Best hyperparameters: {'max_depth': 10, 'min_samples_leaf': 4, 'min_samples_split': 10, 'n_estimators': 200}\n",
      "Y:  rmse_Y2 , Best hyperparameters: {'max_depth': 10, 'min_samples_leaf': 4, 'min_samples_split': 10, 'n_estimators': 100}\n",
      "Y:  rmse_Y3 , Best hyperparameters: {'max_depth': 7, 'min_samples_leaf': 2, 'min_samples_split': 5, 'n_estimators': 10}\n"
     ]
    }
   ],
   "source": [
    "randomForest(data_agg, 'rmse_Y1')\n",
    "randomForest(data_agg, 'rmse_Y2')\n",
    "randomForest(data_agg, 'rmse_Y3')"
   ]
  },
  {
   "cell_type": "markdown",
   "id": "bba4eec1-9ebd-401a-a1a3-fc7376f65904",
   "metadata": {},
   "source": [
    "### result"
   ]
  },
  {
   "cell_type": "code",
   "execution_count": 321,
   "id": "9de585cd-8b97-40c5-a202-702eff633aa7",
   "metadata": {},
   "outputs": [],
   "source": [
    "result_Y1_rd = data_agg[data_agg['rmse_Y1_pred'] <= 1.59]\n",
    "result_Y2_rd = data_agg[data_agg['rmse_Y2_pred'] <= 2.22]\n",
    "result_Y3_rd = data_agg[data_agg['rmse_Y3_pred'] <= 3.57]"
   ]
  },
  {
   "cell_type": "code",
   "execution_count": 322,
   "id": "640af61b-4c58-4c0b-9958-e240c10d533f",
   "metadata": {},
   "outputs": [
    {
     "name": "stdout",
     "output_type": "stream",
     "text": [
      "465\n"
     ]
    }
   ],
   "source": [
    "# print all combinations in Y1,Y2,Y3\n",
    "result_rd = pd.concat([result_Y1_rd, result_Y2_rd, result_Y3_rd], ignore_index = True)\n",
    "result_rd.reset_index(drop = True, inplace = True)\n",
    "result_rd['sum2'] = 1\n",
    "print(len(result_rd))"
   ]
  },
  {
   "cell_type": "code",
   "execution_count": 323,
   "id": "8d2cc024-db9f-4d0d-ac11-175b21138d22",
   "metadata": {
    "tags": []
   },
   "outputs": [
    {
     "data": {
      "text/plain": [
       "26"
      ]
     },
     "execution_count": 323,
     "metadata": {},
     "output_type": "execute_result"
    }
   ],
   "source": [
    "# aggregate\n",
    "result_rd = result_rd.groupby(['g_time', 'act', 'g_per']).agg({'sum2': 'sum'})\n",
    "result_rd.reset_index(inplace = True)\n",
    "result_rd_rmsesel = result_rd[result_rd['sum2'] > 2]\n",
    "len(result_rd_rmsesel)"
   ]
  },
  {
   "cell_type": "code",
   "execution_count": 324,
   "id": "66732af0-3067-4041-853a-7979b74e8e85",
   "metadata": {
    "tags": []
   },
   "outputs": [
    {
     "data": {
      "text/html": [
       "<div>\n",
       "<style scoped>\n",
       "    .dataframe tbody tr th:only-of-type {\n",
       "        vertical-align: middle;\n",
       "    }\n",
       "\n",
       "    .dataframe tbody tr th {\n",
       "        vertical-align: top;\n",
       "    }\n",
       "\n",
       "    .dataframe thead th {\n",
       "        text-align: right;\n",
       "    }\n",
       "</style>\n",
       "<table border=\"1\" class=\"dataframe\">\n",
       "  <thead>\n",
       "    <tr style=\"text-align: right;\">\n",
       "      <th></th>\n",
       "      <th>g_time</th>\n",
       "      <th>act</th>\n",
       "      <th>g_per</th>\n",
       "      <th>sum2</th>\n",
       "    </tr>\n",
       "  </thead>\n",
       "  <tbody>\n",
       "    <tr>\n",
       "      <th>13</th>\n",
       "      <td>120</td>\n",
       "      <td>0.10</td>\n",
       "      <td>0.2</td>\n",
       "      <td>3</td>\n",
       "    </tr>\n",
       "    <tr>\n",
       "      <th>24</th>\n",
       "      <td>150</td>\n",
       "      <td>0.10</td>\n",
       "      <td>0.2</td>\n",
       "      <td>3</td>\n",
       "    </tr>\n",
       "    <tr>\n",
       "      <th>36</th>\n",
       "      <td>180</td>\n",
       "      <td>0.05</td>\n",
       "      <td>0.4</td>\n",
       "      <td>3</td>\n",
       "    </tr>\n",
       "    <tr>\n",
       "      <th>37</th>\n",
       "      <td>180</td>\n",
       "      <td>0.05</td>\n",
       "      <td>0.5</td>\n",
       "      <td>3</td>\n",
       "    </tr>\n",
       "    <tr>\n",
       "      <th>43</th>\n",
       "      <td>180</td>\n",
       "      <td>0.10</td>\n",
       "      <td>0.4</td>\n",
       "      <td>3</td>\n",
       "    </tr>\n",
       "  </tbody>\n",
       "</table>\n",
       "</div>"
      ],
      "text/plain": [
       "    g_time   act  g_per  sum2\n",
       "13     120  0.10    0.2     3\n",
       "24     150  0.10    0.2     3\n",
       "36     180  0.05    0.4     3\n",
       "37     180  0.05    0.5     3\n",
       "43     180  0.10    0.4     3"
      ]
     },
     "execution_count": 324,
     "metadata": {},
     "output_type": "execute_result"
    }
   ],
   "source": [
    "#result\n",
    "result_rd_rmsesel.head()"
   ]
  },
  {
   "cell_type": "markdown",
   "id": "75e539a1-17bc-41bd-8720-f1ff963c6416",
   "metadata": {
    "tags": []
   },
   "source": [
    "## accuracy"
   ]
  },
  {
   "cell_type": "code",
   "execution_count": 325,
   "id": "dd1b55a5-9ed7-4438-ac8a-04d168facd6b",
   "metadata": {},
   "outputs": [],
   "source": [
    "# data\n",
    "# train, test data\n",
    "Path = '../CA/Data/test_trainData/'\n",
    "\n",
    "trainY1 = np.loadtxt(Path + \"train_data_forY1_80.txt\")\n",
    "trainY2 = np.loadtxt(Path + \"train_data_forY2_80.txt\")\n",
    "trainY3 = np.loadtxt(Path + \"train_data_forY3_80.txt\")\n",
    "\n",
    "testY1 = np.loadtxt(Path + \"test_data_forY1_20.txt\")\n",
    "testY2 = np.loadtxt(Path + \"test_data_forY2_20.txt\")\n",
    "testY3 = np.loadtxt(Path + \"test_data_forY3_20_2.txt\")"
   ]
  },
  {
   "cell_type": "code",
   "execution_count": 326,
   "id": "35b042ad-6569-48c0-b99b-f8cd1b7e72fd",
   "metadata": {},
   "outputs": [],
   "source": [
    "data_for_accuracy_rd = data.drop(columns=['Unnamed: 0.1', 'Unnamed: 0','y1', 'y2', 'y3']).reset_index()"
   ]
  },
  {
   "cell_type": "code",
   "execution_count": 327,
   "id": "091968e8-bf4c-4416-8808-fed7e88689ca",
   "metadata": {},
   "outputs": [],
   "source": [
    "#결과와 일치하는 조합 찾기.\n",
    "unique_combinations = result_rd_rmsesel[['g_time', 'act', 'g_per']].drop_duplicates()\n",
    "\n",
    "# data_for_accuracy_rd에서 필터링하기\n",
    "filtered_data_for_accuracy_rd = data_for_accuracy_rd.merge(unique_combinations, on=['g_time', 'act', 'g_per'], how='inner')"
   ]
  },
  {
   "cell_type": "code",
   "execution_count": 328,
   "id": "17f11302-8907-4039-aeca-52b82457e479",
   "metadata": {},
   "outputs": [
    {
     "name": "stdout",
     "output_type": "stream",
     "text": [
      "train accuracy for Y1:  0.9230769230769231\n",
      "train accuracy for Y2:  0.7307692307692307\n",
      "train accuracy for Y3:  0.7692307692307693\n"
     ]
    }
   ],
   "source": [
    "# train accuracy 구하기\n",
    "filtered_data_for_accuracy_rd['all_sum_train'] = 1 #전체 \n",
    "\n",
    "# rmsesel 만족하는 애들만\n",
    "filtered_data_for_accuracy_rd['calibrated_Y1'] = np.where(filtered_data_for_accuracy_rd['rmse_Y1'] <= 1.59, 1, 0)\n",
    "filtered_data_for_accuracy_rd['calibrated_Y2'] = np.where(filtered_data_for_accuracy_rd['rmse_Y2'] <= 2.22, 1, 0)\n",
    "filtered_data_for_accuracy_rd['calibrated_Y3'] = np.where(filtered_data_for_accuracy_rd['rmse_Y3'] <= 3.57, 1, 0)\n",
    "filtered_data_for_accuracy_rd\n",
    "\n",
    "#aggregate\n",
    "filtered_data_for_accuracy_rd_result = filtered_data_for_accuracy_rd.groupby(['g_time', 'act', 'g_per']).agg({'all_sum_train': 'sum', \n",
    "                                                                                                              'calibrated_Y1': 'sum', 'calibrated_Y2': 'sum', 'calibrated_Y3': 'sum'})\n",
    "                                                                                                              \n",
    "# Uncertainty degree                                                                                                              \n",
    "filtered_data_for_accuracy_rd_result.reset_index(inplace = True)\n",
    "filtered_data_for_accuracy_rd_result['uncertainty_degree_Y1'] = 1 - (filtered_data_for_accuracy_rd_result['calibrated_Y1']/filtered_data_for_accuracy_rd_result['all_sum_train'] )\n",
    "filtered_data_for_accuracy_rd_result['uncertainty_degree_Y2'] = 1 - (filtered_data_for_accuracy_rd_result['calibrated_Y2']/filtered_data_for_accuracy_rd_result['all_sum_train'] )\n",
    "filtered_data_for_accuracy_rd_result['uncertainty_degree_Y3'] = 1 - (filtered_data_for_accuracy_rd_result['calibrated_Y3']/filtered_data_for_accuracy_rd_result['all_sum_train'] )\n",
    "\n",
    "#Accuracy\n",
    "def accuracy(df, column):\n",
    "    accuracy = len(df[df['uncertainty_degree_' + column]<= 0.6])/ len(df)\n",
    "    return accuracy\n",
    "    \n",
    "accuracy_Y1 = accuracy(filtered_data_for_accuracy_rd_result, 'Y1')\n",
    "accuracy_Y2 = accuracy(filtered_data_for_accuracy_rd_result, 'Y2')\n",
    "accuracy_Y3 = accuracy(filtered_data_for_accuracy_rd_result, 'Y3')\n",
    "\n",
    "print(\"train accuracy for Y1: \", accuracy_Y1)\n",
    "print(\"train accuracy for Y2: \", accuracy_Y2)\n",
    "print(\"train accuracy for Y3: \", accuracy_Y3)"
   ]
  },
  {
   "cell_type": "code",
   "execution_count": 331,
   "id": "183111c4-a6be-419f-9bcf-c7ee279b14bb",
   "metadata": {},
   "outputs": [
    {
     "name": "stdout",
     "output_type": "stream",
     "text": [
      "test accuracy for Y1:  1.0\n",
      "test accuracy for Y2:  0.5\n",
      "test accuracy for Y3:  0.6923076923076923\n"
     ]
    }
   ],
   "source": [
    "# test accuracy 구하기\n",
    "filtered_data_for_accuracy_rd['all_sum_test'] = 1 #전체 \n",
    "\n",
    "# rmsesel 만족하는 애들만\n",
    "filtered_data_for_accuracy_rd['calibrated_Y1_test'] = np.where(filtered_data_for_accuracy_rd['rmse_Y1_test'] <= 1.59, 1, 0)\n",
    "filtered_data_for_accuracy_rd['calibrated_Y2_test'] = np.where(filtered_data_for_accuracy_rd['rmse_Y2_test'] <= 2.22, 1, 0)\n",
    "filtered_data_for_accuracy_rd['calibrated_Y3_test'] = np.where(filtered_data_for_accuracy_rd['rmse_Y3_test'] <= 3.57, 1, 0)\n",
    "\n",
    "#aggregate\n",
    "filtered_data_for_accuracy_rd_result = filtered_data_for_accuracy_rd.groupby(['g_time', 'act', 'g_per']).agg({'all_sum_test': 'sum', \n",
    "                                                                                                              'calibrated_Y1_test': 'sum', 'calibrated_Y2_test': 'sum', 'calibrated_Y3_test': 'sum'})\n",
    "                                                                                                              \n",
    "# Uncertainty degree                                                                                                              \n",
    "filtered_data_for_accuracy_rd_result.reset_index(inplace = True)\n",
    "filtered_data_for_accuracy_rd_result['uncertainty_degree_Y1'] = 1 - (filtered_data_for_accuracy_rd_result['calibrated_Y1_test']/filtered_data_for_accuracy_rd_result['all_sum_test'] )\n",
    "filtered_data_for_accuracy_rd_result['uncertainty_degree_Y2'] = 1 - (filtered_data_for_accuracy_rd_result['calibrated_Y2_test']/filtered_data_for_accuracy_rd_result['all_sum_test'] )\n",
    "filtered_data_for_accuracy_rd_result['uncertainty_degree_Y3'] = 1 - (filtered_data_for_accuracy_rd_result['calibrated_Y3_test']/filtered_data_for_accuracy_rd_result['all_sum_test'] )\n",
    "\n",
    "#Accuracy\n",
    "def accuracy(df, column):\n",
    "    accuracy = len(df[df['uncertainty_degree_' + column]<= 0.6])/ len(df)\n",
    "    return accuracy\n",
    "    \n",
    "accuracy_Y1 = accuracy(filtered_data_for_accuracy_rd_result, 'Y1')\n",
    "accuracy_Y2 = accuracy(filtered_data_for_accuracy_rd_result, 'Y2')\n",
    "accuracy_Y3 = accuracy(filtered_data_for_accuracy_rd_result, 'Y3')\n",
    "\n",
    "print(\"test accuracy for Y1: \", accuracy_Y1)\n",
    "print(\"test accuracy for Y2: \", accuracy_Y2)\n",
    "print(\"test accuracy for Y3: \", accuracy_Y3)"
   ]
  },
  {
   "cell_type": "markdown",
   "id": "b5f238d6-9cb3-4f3c-a752-7490dbbeaefa",
   "metadata": {},
   "source": [
    "## Ridge Regression"
   ]
  },
  {
   "cell_type": "code",
   "execution_count": 163,
   "id": "155f5f5e-10cd-4915-9703-a06806473e5c",
   "metadata": {},
   "outputs": [
    {
     "data": {
      "text/html": [
       "<div>\n",
       "<style scoped>\n",
       "    .dataframe tbody tr th:only-of-type {\n",
       "        vertical-align: middle;\n",
       "    }\n",
       "\n",
       "    .dataframe tbody tr th {\n",
       "        vertical-align: top;\n",
       "    }\n",
       "\n",
       "    .dataframe thead th {\n",
       "        text-align: right;\n",
       "    }\n",
       "</style>\n",
       "<table border=\"1\" class=\"dataframe\">\n",
       "  <thead>\n",
       "    <tr style=\"text-align: right;\">\n",
       "      <th></th>\n",
       "      <th>g_time</th>\n",
       "      <th>act</th>\n",
       "      <th>g_per</th>\n",
       "      <th>rmse_Y3</th>\n",
       "      <th>rmse_Y1</th>\n",
       "      <th>rmse_Y2</th>\n",
       "      <th>rmse_Y3_test</th>\n",
       "      <th>rmse_Y1_test</th>\n",
       "      <th>rmse_Y2_test</th>\n",
       "    </tr>\n",
       "  </thead>\n",
       "  <tbody>\n",
       "    <tr>\n",
       "      <th>0</th>\n",
       "      <td>30</td>\n",
       "      <td>0.05</td>\n",
       "      <td>0.1</td>\n",
       "      <td>6.748237</td>\n",
       "      <td>1.227077</td>\n",
       "      <td>1.823021</td>\n",
       "      <td>8.540450</td>\n",
       "      <td>1.854858</td>\n",
       "      <td>3.749179</td>\n",
       "    </tr>\n",
       "    <tr>\n",
       "      <th>1</th>\n",
       "      <td>30</td>\n",
       "      <td>0.05</td>\n",
       "      <td>0.2</td>\n",
       "      <td>4.289127</td>\n",
       "      <td>1.396292</td>\n",
       "      <td>2.220120</td>\n",
       "      <td>5.684172</td>\n",
       "      <td>1.170235</td>\n",
       "      <td>2.544679</td>\n",
       "    </tr>\n",
       "    <tr>\n",
       "      <th>2</th>\n",
       "      <td>30</td>\n",
       "      <td>0.05</td>\n",
       "      <td>0.3</td>\n",
       "      <td>6.057574</td>\n",
       "      <td>1.847569</td>\n",
       "      <td>2.221120</td>\n",
       "      <td>7.564624</td>\n",
       "      <td>2.307075</td>\n",
       "      <td>3.662435</td>\n",
       "    </tr>\n",
       "    <tr>\n",
       "      <th>3</th>\n",
       "      <td>30</td>\n",
       "      <td>0.05</td>\n",
       "      <td>0.4</td>\n",
       "      <td>5.006639</td>\n",
       "      <td>1.812709</td>\n",
       "      <td>2.542025</td>\n",
       "      <td>5.954443</td>\n",
       "      <td>1.582546</td>\n",
       "      <td>2.615103</td>\n",
       "    </tr>\n",
       "    <tr>\n",
       "      <th>4</th>\n",
       "      <td>30</td>\n",
       "      <td>0.05</td>\n",
       "      <td>0.5</td>\n",
       "      <td>3.923151</td>\n",
       "      <td>2.086422</td>\n",
       "      <td>2.970780</td>\n",
       "      <td>4.566449</td>\n",
       "      <td>1.628368</td>\n",
       "      <td>2.307886</td>\n",
       "    </tr>\n",
       "  </tbody>\n",
       "</table>\n",
       "</div>"
      ],
      "text/plain": [
       "   g_time   act  g_per   rmse_Y3   rmse_Y1   rmse_Y2  rmse_Y3_test  \\\n",
       "0      30  0.05    0.1  6.748237  1.227077  1.823021      8.540450   \n",
       "1      30  0.05    0.2  4.289127  1.396292  2.220120      5.684172   \n",
       "2      30  0.05    0.3  6.057574  1.847569  2.221120      7.564624   \n",
       "3      30  0.05    0.4  5.006639  1.812709  2.542025      5.954443   \n",
       "4      30  0.05    0.5  3.923151  2.086422  2.970780      4.566449   \n",
       "\n",
       "   rmse_Y1_test  rmse_Y2_test  \n",
       "0      1.854858      3.749179  \n",
       "1      1.170235      2.544679  \n",
       "2      2.307075      3.662435  \n",
       "3      1.582546      2.615103  \n",
       "4      1.628368      2.307886  "
      ]
     },
     "execution_count": 163,
     "metadata": {},
     "output_type": "execute_result"
    }
   ],
   "source": [
    "data = pd.read_csv('../CA/Other_method/result.csv')\n",
    "data_agg = data.drop(columns=['Unnamed: 0.1', 'Unnamed: 0', 'y1', 'y2', 'y3']).groupby(['g_time', 'act', 'g_per']).mean().reset_index()\n",
    "data_agg.head()"
   ]
  },
  {
   "cell_type": "code",
   "execution_count": 332,
   "id": "56e850d7-750e-443a-9150-16b854a2cde0",
   "metadata": {},
   "outputs": [],
   "source": [
    "from sklearn.linear_model import Ridge\n",
    "from sklearn.model_selection import GridSearchCV\n",
    "from sklearn.metrics import mean_squared_error\n",
    "\n",
    "def ridgeRegression(data_agg, y_column):\n",
    "    # X와 Y를 지정합니다.\n",
    "    X = data_agg[['g_time', 'act', 'g_per']]\n",
    "    Y = data_agg[y_column]\n",
    "\n",
    "    # ridge regression 모델 객체를 생성합니다.\n",
    "    ridge = Ridge()\n",
    "\n",
    "    # hyperparameter 후보군을 지정합니다.\n",
    "    parameters = {'alpha': [0.1, 1, 10]}\n",
    "\n",
    "    # 5-fold cross validation을 수행하여 최적의 hyperparameter를 찾습니다.\n",
    "    grid_search = GridSearchCV(ridge, parameters, cv=5)\n",
    "    grid_search.fit(X, Y)\n",
    "    best_alpha = grid_search.best_params_['alpha']\n",
    "    print(\"Y: \", y_column, 'Best alpha:', best_alpha)\n",
    "\n",
    "    # 최적의 hyperparameter로 ridge regression 모델을 학습합니다.\n",
    "    model = Ridge(alpha=best_alpha)\n",
    "    model.fit(X, Y)\n",
    "\n",
    "    # 학습 데이터에 대한 예측 결과를 새로운 컬럼으로 추가합니다.\n",
    "    data_agg[y_column + '_pred'] = model.predict(X)"
   ]
  },
  {
   "cell_type": "code",
   "execution_count": 333,
   "id": "bdfbe43f-4c33-4bcc-9322-5a5cc8144c9a",
   "metadata": {},
   "outputs": [
    {
     "name": "stdout",
     "output_type": "stream",
     "text": [
      "Y:  rmse_Y1 Best alpha: 0.1\n",
      "Y:  rmse_Y2 Best alpha: 0.1\n",
      "Y:  rmse_Y3 Best alpha: 10\n"
     ]
    }
   ],
   "source": [
    "ridgeRegression(data_agg, 'rmse_Y1')\n",
    "ridgeRegression(data_agg, 'rmse_Y2')\n",
    "ridgeRegression(data_agg, 'rmse_Y3')"
   ]
  },
  {
   "cell_type": "markdown",
   "id": "180d0b0d-360a-4b33-b957-c66f6cb4b9ae",
   "metadata": {},
   "source": [
    "### result"
   ]
  },
  {
   "cell_type": "code",
   "execution_count": 345,
   "id": "21a95c33-9a49-4fa4-a88e-1f2da8e18926",
   "metadata": {},
   "outputs": [],
   "source": [
    "result_Y1_rr = data_agg[data_agg['rmse_Y1_pred'] <= 1.59]\n",
    "result_Y2_rr = data_agg[data_agg['rmse_Y2_pred'] <= 2.22]\n",
    "result_Y3_rr = data_agg[data_agg['rmse_Y3_pred'] <= 3.57]"
   ]
  },
  {
   "cell_type": "code",
   "execution_count": 346,
   "id": "780ae464-80f6-4486-b982-80d601a97239",
   "metadata": {},
   "outputs": [
    {
     "name": "stdout",
     "output_type": "stream",
     "text": [
      "207\n"
     ]
    }
   ],
   "source": [
    "# Y1,Y2,Y3에 모두 있는 조합들을 출력\n",
    "result_rr = pd.concat([result_Y1_rr, result_Y2_rr, result_Y3_rr], ignore_index = True)\n",
    "result_rr.reset_index(drop = True, inplace = True)\n",
    "result_rr['sum2'] = 1\n",
    "print(len(result_rr))"
   ]
  },
  {
   "cell_type": "code",
   "execution_count": 347,
   "id": "2c2f3025-b84f-429d-91eb-90329dfdbb0b",
   "metadata": {
    "tags": []
   },
   "outputs": [
    {
     "data": {
      "text/plain": [
       "37"
      ]
     },
     "execution_count": 347,
     "metadata": {},
     "output_type": "execute_result"
    }
   ],
   "source": [
    "# aggregate\n",
    "result_rr = result_rr.groupby(['g_time', 'act', 'g_per']).agg({'sum2': 'sum'})\n",
    "result_rr.reset_index(inplace = True)\n",
    "result_rr_rmsesel = result_rr[result_rr['sum2'] > 2]\n",
    "len(result_rr_rmsesel)"
   ]
  },
  {
   "cell_type": "code",
   "execution_count": 348,
   "id": "cf2a611f-28fc-4afd-95c4-79f71aa82018",
   "metadata": {},
   "outputs": [
    {
     "data": {
      "text/html": [
       "<div>\n",
       "<style scoped>\n",
       "    .dataframe tbody tr th:only-of-type {\n",
       "        vertical-align: middle;\n",
       "    }\n",
       "\n",
       "    .dataframe tbody tr th {\n",
       "        vertical-align: top;\n",
       "    }\n",
       "\n",
       "    .dataframe thead th {\n",
       "        text-align: right;\n",
       "    }\n",
       "</style>\n",
       "<table border=\"1\" class=\"dataframe\">\n",
       "  <thead>\n",
       "    <tr style=\"text-align: right;\">\n",
       "      <th></th>\n",
       "      <th>g_time</th>\n",
       "      <th>act</th>\n",
       "      <th>g_per</th>\n",
       "      <th>sum2</th>\n",
       "    </tr>\n",
       "  </thead>\n",
       "  <tbody>\n",
       "    <tr>\n",
       "      <th>11</th>\n",
       "      <td>240</td>\n",
       "      <td>0.05</td>\n",
       "      <td>0.1</td>\n",
       "      <td>3</td>\n",
       "    </tr>\n",
       "    <tr>\n",
       "      <th>12</th>\n",
       "      <td>240</td>\n",
       "      <td>0.05</td>\n",
       "      <td>0.2</td>\n",
       "      <td>3</td>\n",
       "    </tr>\n",
       "    <tr>\n",
       "      <th>13</th>\n",
       "      <td>240</td>\n",
       "      <td>0.05</td>\n",
       "      <td>0.3</td>\n",
       "      <td>3</td>\n",
       "    </tr>\n",
       "    <tr>\n",
       "      <th>14</th>\n",
       "      <td>240</td>\n",
       "      <td>0.05</td>\n",
       "      <td>0.4</td>\n",
       "      <td>3</td>\n",
       "    </tr>\n",
       "    <tr>\n",
       "      <th>31</th>\n",
       "      <td>270</td>\n",
       "      <td>0.05</td>\n",
       "      <td>0.1</td>\n",
       "      <td>3</td>\n",
       "    </tr>\n",
       "  </tbody>\n",
       "</table>\n",
       "</div>"
      ],
      "text/plain": [
       "    g_time   act  g_per  sum2\n",
       "11     240  0.05    0.1     3\n",
       "12     240  0.05    0.2     3\n",
       "13     240  0.05    0.3     3\n",
       "14     240  0.05    0.4     3\n",
       "31     270  0.05    0.1     3"
      ]
     },
     "execution_count": 348,
     "metadata": {},
     "output_type": "execute_result"
    }
   ],
   "source": [
    "result_rr_rmsesel.head()"
   ]
  },
  {
   "cell_type": "markdown",
   "id": "1f9eb584-0f4d-4860-b0b2-2d5034a52ccd",
   "metadata": {
    "tags": []
   },
   "source": [
    "## accuracy"
   ]
  },
  {
   "cell_type": "code",
   "execution_count": 349,
   "id": "d324429a-6b5b-4890-bf38-2feaad698d8b",
   "metadata": {},
   "outputs": [],
   "source": [
    "# data\n",
    "# train, test data\n",
    "Path = '../CA/Data/test_trainData/'\n",
    "\n",
    "trainY1 = np.loadtxt(Path + \"train_data_forY1_80.txt\")\n",
    "trainY2 = np.loadtxt(Path + \"train_data_forY2_80.txt\")\n",
    "trainY3 = np.loadtxt(Path + \"train_data_forY3_80.txt\")\n",
    "\n",
    "testY1 = np.loadtxt(Path + \"test_data_forY1_20.txt\")\n",
    "testY2 = np.loadtxt(Path + \"test_data_forY2_20.txt\")\n",
    "testY3 = np.loadtxt(Path + \"test_data_forY3_20_2.txt\")"
   ]
  },
  {
   "cell_type": "code",
   "execution_count": 350,
   "id": "3a7e2046-57b7-4320-9822-b0bdf27e0999",
   "metadata": {},
   "outputs": [],
   "source": [
    "data_for_accuracy_rr = data.drop(columns=['Unnamed: 0.1', 'Unnamed: 0','y1', 'y2', 'y3']).reset_index()"
   ]
  },
  {
   "cell_type": "code",
   "execution_count": 351,
   "id": "7487e1e0-f17d-428b-a643-95db35fa5a9f",
   "metadata": {},
   "outputs": [],
   "source": [
    "#결과와 일치하는 조합 찾기.\n",
    "unique_combinations = result_rr_rmsesel[['g_time', 'act', 'g_per']].drop_duplicates()\n",
    "\n",
    "# data_for_accuracy_rd에서 필터링하기\n",
    "filtered_data_for_accuracy_rr = data_for_accuracy_rr.merge(unique_combinations, on=['g_time', 'act', 'g_per'], how='inner')"
   ]
  },
  {
   "cell_type": "code",
   "execution_count": 354,
   "id": "c2529b01-5ac9-46ad-a45f-87b381981763",
   "metadata": {},
   "outputs": [
    {
     "name": "stdout",
     "output_type": "stream",
     "text": [
      "train accuracy for Y1:  0.8648648648648649\n",
      "train accuracy for Y2:  0.7837837837837838\n",
      "train accuracy for Y3:  0.4594594594594595\n"
     ]
    }
   ],
   "source": [
    "# train accuracy 구하기\n",
    "filtered_data_for_accuracy_rr['all_sum_train'] = 1 #전체 \n",
    "\n",
    "# rmsesel 만족하는 애들만\n",
    "filtered_data_for_accuracy_rr['calibrated_Y1'] = np.where(filtered_data_for_accuracy_rr['rmse_Y1'] <= 1.59, 1, 0)\n",
    "filtered_data_for_accuracy_rr['calibrated_Y2'] = np.where(filtered_data_for_accuracy_rr['rmse_Y2'] <= 2.22, 1, 0)\n",
    "filtered_data_for_accuracy_rr['calibrated_Y3'] = np.where(filtered_data_for_accuracy_rr['rmse_Y3'] <= 3.57, 1, 0)\n",
    "filtered_data_for_accuracy_rr\n",
    "\n",
    "#aggregate\n",
    "filtered_data_for_accuracy_rr_result = filtered_data_for_accuracy_rr.groupby(['g_time', 'act', 'g_per']).agg({'all_sum_train': 'sum', \n",
    "                                                                                                              'calibrated_Y1': 'sum', 'calibrated_Y2': 'sum', 'calibrated_Y3': 'sum'})\n",
    "                                                                                                              \n",
    "# Uncertainty degree                                                                                                              \n",
    "filtered_data_for_accuracy_rr_result.reset_index(inplace = True)\n",
    "filtered_data_for_accuracy_rr_result['uncertainty_degree_Y1'] = 1 - (filtered_data_for_accuracy_rr_result['calibrated_Y1']/filtered_data_for_accuracy_rr_result['all_sum_train'] )\n",
    "filtered_data_for_accuracy_rr_result['uncertainty_degree_Y2'] = 1 - (filtered_data_for_accuracy_rr_result['calibrated_Y2']/filtered_data_for_accuracy_rr_result['all_sum_train'] )\n",
    "filtered_data_for_accuracy_rr_result['uncertainty_degree_Y3'] = 1 - (filtered_data_for_accuracy_rr_result['calibrated_Y3']/filtered_data_for_accuracy_rr_result['all_sum_train'] )\n",
    "\n",
    "#Accuracy\n",
    "def accuracy(df, column):\n",
    "    accuracy = len(df[df['uncertainty_degree_' + column]<= 0.6])/ len(df)\n",
    "    return accuracy\n",
    "    \n",
    "accuracy_Y1 = accuracy(filtered_data_for_accuracy_rr_result, 'Y1')\n",
    "accuracy_Y2 = accuracy(filtered_data_for_accuracy_rr_result, 'Y2')\n",
    "accuracy_Y3 = accuracy(filtered_data_for_accuracy_rr_result, 'Y3')\n",
    "\n",
    "print(\"train accuracy for Y1: \", accuracy_Y1)\n",
    "print(\"train accuracy for Y2: \", accuracy_Y2)\n",
    "print(\"train accuracy for Y3: \", accuracy_Y3)"
   ]
  },
  {
   "cell_type": "code",
   "execution_count": 356,
   "id": "51a081f6-f67d-4bca-b945-702bc7e5597d",
   "metadata": {},
   "outputs": [
    {
     "name": "stdout",
     "output_type": "stream",
     "text": [
      "test accuracy for Y1:  0.918918918918919\n",
      "test accuracy for Y2:  0.3783783783783784\n",
      "test accuracy for Y3:  0.3783783783783784\n"
     ]
    }
   ],
   "source": [
    "# test accuracy 구하기\n",
    "filtered_data_for_accuracy_rr['all_sum_test'] = 1 #전체 \n",
    "\n",
    "# rmsesel 만족하는 애들만\n",
    "filtered_data_for_accuracy_rr['calibrated_Y1_test'] = np.where(filtered_data_for_accuracy_rr['rmse_Y1_test'] <= 1.59, 1, 0)\n",
    "filtered_data_for_accuracy_rr['calibrated_Y2_test'] = np.where(filtered_data_for_accuracy_rr['rmse_Y2_test'] <= 2.22, 1, 0)\n",
    "filtered_data_for_accuracy_rr['calibrated_Y3_test'] = np.where(filtered_data_for_accuracy_rr['rmse_Y3_test'] <= 3.57, 1, 0)\n",
    "\n",
    "#aggregate\n",
    "filtered_data_for_accuracy_rr_result = filtered_data_for_accuracy_rr.groupby(['g_time', 'act', 'g_per']).agg({'all_sum_test': 'sum', \n",
    "                                                                                                              'calibrated_Y1_test': 'sum', 'calibrated_Y2_test': 'sum', 'calibrated_Y3_test': 'sum'})\n",
    "                                                                                                              \n",
    "# Uncertainty degree                                                                                                              \n",
    "filtered_data_for_accuracy_rr_result.reset_index(inplace = True)\n",
    "filtered_data_for_accuracy_rr_result['uncertainty_degree_Y1'] = 1 - (filtered_data_for_accuracy_rr_result['calibrated_Y1_test']/filtered_data_for_accuracy_rr_result['all_sum_test'] )\n",
    "filtered_data_for_accuracy_rr_result['uncertainty_degree_Y2'] = 1 - (filtered_data_for_accuracy_rr_result['calibrated_Y2_test']/filtered_data_for_accuracy_rr_result['all_sum_test'] )\n",
    "filtered_data_for_accuracy_rr_result['uncertainty_degree_Y3'] = 1 - (filtered_data_for_accuracy_rr_result['calibrated_Y3_test']/filtered_data_for_accuracy_rr_result['all_sum_test'] )\n",
    "\n",
    "#Accuracy\n",
    "def accuracy(df, column):\n",
    "    accuracy = len(df[df['uncertainty_degree_' + column]<= 0.6])/ len(df)\n",
    "    return accuracy\n",
    "    \n",
    "accuracy_Y1 = accuracy(filtered_data_for_accuracy_rr_result, 'Y1')\n",
    "accuracy_Y2 = accuracy(filtered_data_for_accuracy_rr_result, 'Y2')\n",
    "accuracy_Y3 = accuracy(filtered_data_for_accuracy_rr_result, 'Y3')\n",
    "\n",
    "print(\"test accuracy for Y1: \", accuracy_Y1)\n",
    "print(\"test accuracy for Y2: \", accuracy_Y2)\n",
    "print(\"test accuracy for Y3: \", accuracy_Y3)"
   ]
  },
  {
   "cell_type": "markdown",
   "id": "52a89608-cd72-4ab2-99c0-0210534c8006",
   "metadata": {},
   "source": [
    "## Traditional Parameter space searching"
   ]
  },
  {
   "cell_type": "code",
   "execution_count": 198,
   "id": "a9c589ec-28f6-458c-88a2-44beaf400f4a",
   "metadata": {},
   "outputs": [
    {
     "data": {
      "text/html": [
       "<div>\n",
       "<style scoped>\n",
       "    .dataframe tbody tr th:only-of-type {\n",
       "        vertical-align: middle;\n",
       "    }\n",
       "\n",
       "    .dataframe tbody tr th {\n",
       "        vertical-align: top;\n",
       "    }\n",
       "\n",
       "    .dataframe thead th {\n",
       "        text-align: right;\n",
       "    }\n",
       "</style>\n",
       "<table border=\"1\" class=\"dataframe\">\n",
       "  <thead>\n",
       "    <tr style=\"text-align: right;\">\n",
       "      <th></th>\n",
       "      <th>g_time</th>\n",
       "      <th>act</th>\n",
       "      <th>g_per</th>\n",
       "      <th>rmse_Y3</th>\n",
       "      <th>rmse_Y1</th>\n",
       "      <th>rmse_Y2</th>\n",
       "      <th>rmse_Y3_test</th>\n",
       "      <th>rmse_Y1_test</th>\n",
       "      <th>rmse_Y2_test</th>\n",
       "    </tr>\n",
       "  </thead>\n",
       "  <tbody>\n",
       "    <tr>\n",
       "      <th>0</th>\n",
       "      <td>30</td>\n",
       "      <td>0.05</td>\n",
       "      <td>0.1</td>\n",
       "      <td>6.748237</td>\n",
       "      <td>1.227077</td>\n",
       "      <td>1.823021</td>\n",
       "      <td>8.540450</td>\n",
       "      <td>1.854858</td>\n",
       "      <td>3.749179</td>\n",
       "    </tr>\n",
       "    <tr>\n",
       "      <th>1</th>\n",
       "      <td>30</td>\n",
       "      <td>0.05</td>\n",
       "      <td>0.2</td>\n",
       "      <td>4.289127</td>\n",
       "      <td>1.396292</td>\n",
       "      <td>2.220120</td>\n",
       "      <td>5.684172</td>\n",
       "      <td>1.170235</td>\n",
       "      <td>2.544679</td>\n",
       "    </tr>\n",
       "    <tr>\n",
       "      <th>2</th>\n",
       "      <td>30</td>\n",
       "      <td>0.05</td>\n",
       "      <td>0.3</td>\n",
       "      <td>6.057574</td>\n",
       "      <td>1.847569</td>\n",
       "      <td>2.221120</td>\n",
       "      <td>7.564624</td>\n",
       "      <td>2.307075</td>\n",
       "      <td>3.662435</td>\n",
       "    </tr>\n",
       "    <tr>\n",
       "      <th>3</th>\n",
       "      <td>30</td>\n",
       "      <td>0.05</td>\n",
       "      <td>0.4</td>\n",
       "      <td>5.006639</td>\n",
       "      <td>1.812709</td>\n",
       "      <td>2.542025</td>\n",
       "      <td>5.954443</td>\n",
       "      <td>1.582546</td>\n",
       "      <td>2.615103</td>\n",
       "    </tr>\n",
       "    <tr>\n",
       "      <th>4</th>\n",
       "      <td>30</td>\n",
       "      <td>0.05</td>\n",
       "      <td>0.5</td>\n",
       "      <td>3.923151</td>\n",
       "      <td>2.086422</td>\n",
       "      <td>2.970780</td>\n",
       "      <td>4.566449</td>\n",
       "      <td>1.628368</td>\n",
       "      <td>2.307886</td>\n",
       "    </tr>\n",
       "  </tbody>\n",
       "</table>\n",
       "</div>"
      ],
      "text/plain": [
       "   g_time   act  g_per   rmse_Y3   rmse_Y1   rmse_Y2  rmse_Y3_test  \\\n",
       "0      30  0.05    0.1  6.748237  1.227077  1.823021      8.540450   \n",
       "1      30  0.05    0.2  4.289127  1.396292  2.220120      5.684172   \n",
       "2      30  0.05    0.3  6.057574  1.847569  2.221120      7.564624   \n",
       "3      30  0.05    0.4  5.006639  1.812709  2.542025      5.954443   \n",
       "4      30  0.05    0.5  3.923151  2.086422  2.970780      4.566449   \n",
       "\n",
       "   rmse_Y1_test  rmse_Y2_test  \n",
       "0      1.854858      3.749179  \n",
       "1      1.170235      2.544679  \n",
       "2      2.307075      3.662435  \n",
       "3      1.582546      2.615103  \n",
       "4      1.628368      2.307886  "
      ]
     },
     "execution_count": 198,
     "metadata": {},
     "output_type": "execute_result"
    }
   ],
   "source": [
    "data = pd.read_csv('../CA/Other_method/result_all.csv')\n",
    "data_agg = data.drop(columns=['Unnamed: 0.1', 'Unnamed: 0', 'y1', 'y2', 'y3']).groupby(['g_time', 'act', 'g_per']).mean().reset_index()\n",
    "data_agg.head()"
   ]
  },
  {
   "cell_type": "markdown",
   "id": "198a138f-a7ff-48cd-8af3-fc4919ade347",
   "metadata": {},
   "source": [
    "### result"
   ]
  },
  {
   "cell_type": "code",
   "execution_count": 216,
   "id": "7444b943-fa7e-4cee-ae71-e324530ca6f7",
   "metadata": {},
   "outputs": [],
   "source": [
    "result_Y1_tr = data_agg[data_agg['rmse_Y1'] <= 1.59]\n",
    "result_Y2_tr = data_agg[data_agg['rmse_Y2'] <= 2.22]\n",
    "result_Y3_tr = data_agg[data_agg['rmse_Y3'] <= 3.57]"
   ]
  },
  {
   "cell_type": "code",
   "execution_count": 217,
   "id": "2d0fa644-1997-4d49-bae8-611e782b1b23",
   "metadata": {},
   "outputs": [
    {
     "name": "stdout",
     "output_type": "stream",
     "text": [
      "390\n"
     ]
    }
   ],
   "source": [
    "# Y1,Y2,Y3에 모두 있는 조합들을 출력\n",
    "result_tr = pd.concat([result_Y1_tr, result_Y2_tr, result_Y3_tr], ignore_index = True)\n",
    "result_tr.reset_index(drop = True, inplace = True)\n",
    "result_tr['sum2'] = 1\n",
    "print(len(result_tr))"
   ]
  },
  {
   "cell_type": "code",
   "execution_count": 219,
   "id": "333d4d59-a8dd-494c-a233-236d6390f64c",
   "metadata": {
    "tags": []
   },
   "outputs": [
    {
     "data": {
      "text/plain": [
       "10"
      ]
     },
     "execution_count": 219,
     "metadata": {},
     "output_type": "execute_result"
    }
   ],
   "source": [
    "# aggregate\n",
    "result_tr = result_tr.groupby(['g_time', 'act', 'g_per']).agg({'sum2': 'sum'})\n",
    "result_tr.reset_index(inplace = True)\n",
    "result_tr_rmsesel = result_tr[result_tr['sum2'] > 2]\n",
    "len(result_tr_rmsesel)"
   ]
  },
  {
   "cell_type": "markdown",
   "id": "34aee9fc-53f9-4883-b3be-a48b095f9193",
   "metadata": {
    "tags": []
   },
   "source": [
    "## accuracy"
   ]
  },
  {
   "cell_type": "code",
   "execution_count": 222,
   "id": "747f7e1e-659a-43f9-8f31-1ec665d57324",
   "metadata": {},
   "outputs": [],
   "source": [
    "# data\n",
    "# train, test data\n",
    "Path = '../CA/Data/test_trainData/'\n",
    "\n",
    "trainY1 = np.loadtxt(Path + \"train_data_forY1_80.txt\")\n",
    "trainY2 = np.loadtxt(Path + \"train_data_forY2_80.txt\")\n",
    "trainY3 = np.loadtxt(Path + \"train_data_forY3_80.txt\")\n",
    "\n",
    "testY1 = np.loadtxt(Path + \"test_data_forY1_20.txt\")\n",
    "testY2 = np.loadtxt(Path + \"test_data_forY2_20.txt\")\n",
    "testY3 = np.loadtxt(Path + \"test_data_forY3_20_2.txt\")"
   ]
  },
  {
   "cell_type": "code",
   "execution_count": 223,
   "id": "bf15058c-7704-47f6-965a-ef3374f74c65",
   "metadata": {},
   "outputs": [],
   "source": [
    "data_for_accuracy_tr = data.drop(columns=['Unnamed: 0.1', 'Unnamed: 0','y1', 'y2', 'y3']).reset_index()"
   ]
  },
  {
   "cell_type": "code",
   "execution_count": 225,
   "id": "a84f3e6e-f9fd-43e5-aee8-f1cd6f64f89c",
   "metadata": {},
   "outputs": [],
   "source": [
    "#결과와 일치하는 조합 찾기.\n",
    "unique_combinations = result_tr_rmsesel[['g_time', 'act', 'g_per']].drop_duplicates()\n",
    "\n",
    "# data_for_accuracy_rd에서 필터링하기\n",
    "filtered_data_for_accuracy_tr = data_for_accuracy_tr.merge(unique_combinations, on=['g_time', 'act', 'g_per'], how='inner')"
   ]
  },
  {
   "cell_type": "code",
   "execution_count": 238,
   "id": "51b935a8-1a34-410d-bbef-d79be23b6cc1",
   "metadata": {},
   "outputs": [
    {
     "name": "stdout",
     "output_type": "stream",
     "text": [
      "train accuracy for Y1:  1.0\n",
      "train accuracy for Y2:  0.9\n",
      "train accuracy for Y3:  0.8\n"
     ]
    }
   ],
   "source": [
    "# train accuracy 구하기\n",
    "filtered_data_for_accuracy_tr['all_sum_train'] = 1 #전체 \n",
    "\n",
    "# rmsesel 만족하는 애들만\n",
    "filtered_data_for_accuracy_tr['calibrated_Y1'] = np.where(filtered_data_for_accuracy_tr['rmse_Y1'] <= 1.59, 1, 0)\n",
    "filtered_data_for_accuracy_tr['calibrated_Y2'] = np.where(filtered_data_for_accuracy_tr['rmse_Y2'] <= 2.22, 1, 0)\n",
    "filtered_data_for_accuracy_tr['calibrated_Y3'] = np.where(filtered_data_for_accuracy_tr['rmse_Y3'] <= 3.57, 1, 0)\n",
    "filtered_data_for_accuracy_tr\n",
    "\n",
    "#aggregate\n",
    "filtered_data_for_accuracy_tr_result = filtered_data_for_accuracy_tr.groupby(['g_time', 'act', 'g_per']).agg({'all_sum_train': 'sum', \n",
    "                                                                                                              'calibrated_Y1': 'sum', 'calibrated_Y2': 'sum', 'calibrated_Y3': 'sum'})\n",
    "                                                                                                              \n",
    "# Uncertainty degree                                                                                                              \n",
    "filtered_data_for_accuracy_tr_result.reset_index(inplace = True)\n",
    "filtered_data_for_accuracy_tr_result['uncertainty_degree_Y1'] = 1 - (filtered_data_for_accuracy_tr_result['calibrated_Y1']/filtered_data_for_accuracy_tr_result['all_sum_train'] )\n",
    "filtered_data_for_accuracy_tr_result['uncertainty_degree_Y2'] = 1 - (filtered_data_for_accuracy_tr_result['calibrated_Y2']/filtered_data_for_accuracy_tr_result['all_sum_train'] )\n",
    "filtered_data_for_accuracy_tr_result['uncertainty_degree_Y3'] = 1 - (filtered_data_for_accuracy_tr_result['calibrated_Y3']/filtered_data_for_accuracy_tr_result['all_sum_train'] )\n",
    "\n",
    "#Accuracy\n",
    "def accuracy(df, column):\n",
    "    accuracy = len(df[df['uncertainty_degree_' + column]<= 0.7])/ len(df)\n",
    "    return accuracy\n",
    "    \n",
    "accuracy_Y1 = accuracy(filtered_data_for_accuracy_tr_result, 'Y1')\n",
    "accuracy_Y2 = accuracy(filtered_data_for_accuracy_tr_result, 'Y2')\n",
    "accuracy_Y3 = accuracy(filtered_data_for_accuracy_tr_result, 'Y3')\n",
    "\n",
    "print(\"train accuracy for Y1: \", accuracy_Y1)\n",
    "print(\"train accuracy for Y2: \", accuracy_Y2)\n",
    "print(\"train accuracy for Y3: \", accuracy_Y3)"
   ]
  },
  {
   "cell_type": "code",
   "execution_count": 255,
   "id": "8f920196-100a-4885-9194-efbc9b77c87b",
   "metadata": {},
   "outputs": [
    {
     "name": "stdout",
     "output_type": "stream",
     "text": [
      "test accuracy for Y1:  1.0\n",
      "test accuracy for Y2:  0.7\n",
      "test accuracy for Y3:  0.6\n"
     ]
    }
   ],
   "source": [
    "# test accuracy 구하기\n",
    "filtered_data_for_accuracy_tr['all_sum_test'] = 1 #전체 \n",
    "\n",
    "# rmsesel 만족하는 애들만\n",
    "filtered_data_for_accuracy_tr['calibrated_Y1_test'] = np.where(filtered_data_for_accuracy_tr['rmse_Y1_test'] <= 1.59, 1, 0)\n",
    "filtered_data_for_accuracy_tr['calibrated_Y2_test'] = np.where(filtered_data_for_accuracy_tr['rmse_Y2_test'] <= 2.22, 1, 0)\n",
    "filtered_data_for_accuracy_tr['calibrated_Y3_test'] = np.where(filtered_data_for_accuracy_tr['rmse_Y3_test'] <= 3.57, 1, 0)\n",
    "\n",
    "#aggregate\n",
    "filtered_data_for_accuracy_tr_result = filtered_data_for_accuracy_tr.groupby(['g_time', 'act', 'g_per']).agg({'all_sum_test': 'sum', \n",
    "                                                                                                              'calibrated_Y1_test': 'sum', 'calibrated_Y2_test': 'sum', 'calibrated_Y3_test': 'sum'})\n",
    "                                                                                                              \n",
    "# Uncertainty degree                                                                                                              \n",
    "filtered_data_for_accuracy_tr_result.reset_index(inplace = True)\n",
    "filtered_data_for_accuracy_tr_result['uncertainty_degree_Y1'] = 1 - (filtered_data_for_accuracy_tr_result['calibrated_Y1_test']/filtered_data_for_accuracy_tr_result['all_sum_test'] )\n",
    "filtered_data_for_accuracy_tr_result['uncertainty_degree_Y2'] = 1 - (filtered_data_for_accuracy_tr_result['calibrated_Y2_test']/filtered_data_for_accuracy_tr_result['all_sum_test'] )\n",
    "filtered_data_for_accuracy_tr_result['uncertainty_degree_Y3'] = 1 - (filtered_data_for_accuracy_tr_result['calibrated_Y3_test']/filtered_data_for_accuracy_tr_result['all_sum_test'] )\n",
    "\n",
    "#Accuracy\n",
    "def accuracy(df, column):\n",
    "    accuracy = len(df[df['uncertainty_degree_' + column]<= 0.55])/ len(df)\n",
    "    return accuracy\n",
    "    \n",
    "accuracy_Y1 = accuracy(filtered_data_for_accuracy_tr_result, 'Y1')\n",
    "accuracy_Y2 = accuracy(filtered_data_for_accuracy_tr_result, 'Y2')\n",
    "accuracy_Y3 = accuracy(filtered_data_for_accuracy_tr_result, 'Y3')\n",
    "\n",
    "print(\"test accuracy for Y1: \", accuracy_Y1)\n",
    "print(\"test accuracy for Y2: \", accuracy_Y2)\n",
    "print(\"test accuracy for Y3: \", accuracy_Y3)"
   ]
  },
  {
   "cell_type": "code",
   "execution_count": 249,
   "id": "81547a07-c6bd-4700-a777-0d7671be172b",
   "metadata": {},
   "outputs": [
    {
     "data": {
      "text/html": [
       "<div>\n",
       "<style scoped>\n",
       "    .dataframe tbody tr th:only-of-type {\n",
       "        vertical-align: middle;\n",
       "    }\n",
       "\n",
       "    .dataframe tbody tr th {\n",
       "        vertical-align: top;\n",
       "    }\n",
       "\n",
       "    .dataframe thead th {\n",
       "        text-align: right;\n",
       "    }\n",
       "</style>\n",
       "<table border=\"1\" class=\"dataframe\">\n",
       "  <thead>\n",
       "    <tr style=\"text-align: right;\">\n",
       "      <th></th>\n",
       "      <th>g_time</th>\n",
       "      <th>act</th>\n",
       "      <th>g_per</th>\n",
       "      <th>all_sum_test</th>\n",
       "      <th>calibrated_Y1_test</th>\n",
       "      <th>calibrated_Y2_test</th>\n",
       "      <th>calibrated_Y3_test</th>\n",
       "      <th>uncertainty_degree_Y1</th>\n",
       "      <th>uncertainty_degree_Y2</th>\n",
       "      <th>uncertainty_degree_Y3</th>\n",
       "    </tr>\n",
       "  </thead>\n",
       "  <tbody>\n",
       "    <tr>\n",
       "      <th>0</th>\n",
       "      <td>30</td>\n",
       "      <td>0.10</td>\n",
       "      <td>0.3</td>\n",
       "      <td>1</td>\n",
       "      <td>1</td>\n",
       "      <td>0</td>\n",
       "      <td>0</td>\n",
       "      <td>0.000000</td>\n",
       "      <td>1.000000</td>\n",
       "      <td>1.000000</td>\n",
       "    </tr>\n",
       "    <tr>\n",
       "      <th>1</th>\n",
       "      <td>90</td>\n",
       "      <td>0.10</td>\n",
       "      <td>0.1</td>\n",
       "      <td>4</td>\n",
       "      <td>4</td>\n",
       "      <td>3</td>\n",
       "      <td>3</td>\n",
       "      <td>0.000000</td>\n",
       "      <td>0.250000</td>\n",
       "      <td>0.250000</td>\n",
       "    </tr>\n",
       "    <tr>\n",
       "      <th>2</th>\n",
       "      <td>150</td>\n",
       "      <td>0.05</td>\n",
       "      <td>0.3</td>\n",
       "      <td>3</td>\n",
       "      <td>3</td>\n",
       "      <td>2</td>\n",
       "      <td>3</td>\n",
       "      <td>0.000000</td>\n",
       "      <td>0.333333</td>\n",
       "      <td>0.000000</td>\n",
       "    </tr>\n",
       "    <tr>\n",
       "      <th>3</th>\n",
       "      <td>150</td>\n",
       "      <td>0.15</td>\n",
       "      <td>0.1</td>\n",
       "      <td>5</td>\n",
       "      <td>5</td>\n",
       "      <td>1</td>\n",
       "      <td>2</td>\n",
       "      <td>0.000000</td>\n",
       "      <td>0.800000</td>\n",
       "      <td>0.600000</td>\n",
       "    </tr>\n",
       "    <tr>\n",
       "      <th>4</th>\n",
       "      <td>210</td>\n",
       "      <td>0.05</td>\n",
       "      <td>0.6</td>\n",
       "      <td>14</td>\n",
       "      <td>14</td>\n",
       "      <td>13</td>\n",
       "      <td>6</td>\n",
       "      <td>0.000000</td>\n",
       "      <td>0.071429</td>\n",
       "      <td>0.571429</td>\n",
       "    </tr>\n",
       "    <tr>\n",
       "      <th>5</th>\n",
       "      <td>240</td>\n",
       "      <td>0.10</td>\n",
       "      <td>0.5</td>\n",
       "      <td>25</td>\n",
       "      <td>23</td>\n",
       "      <td>11</td>\n",
       "      <td>8</td>\n",
       "      <td>0.080000</td>\n",
       "      <td>0.560000</td>\n",
       "      <td>0.680000</td>\n",
       "    </tr>\n",
       "    <tr>\n",
       "      <th>6</th>\n",
       "      <td>270</td>\n",
       "      <td>0.05</td>\n",
       "      <td>0.6</td>\n",
       "      <td>24</td>\n",
       "      <td>24</td>\n",
       "      <td>18</td>\n",
       "      <td>12</td>\n",
       "      <td>0.000000</td>\n",
       "      <td>0.250000</td>\n",
       "      <td>0.500000</td>\n",
       "    </tr>\n",
       "    <tr>\n",
       "      <th>7</th>\n",
       "      <td>270</td>\n",
       "      <td>0.10</td>\n",
       "      <td>0.4</td>\n",
       "      <td>11</td>\n",
       "      <td>10</td>\n",
       "      <td>5</td>\n",
       "      <td>4</td>\n",
       "      <td>0.090909</td>\n",
       "      <td>0.545455</td>\n",
       "      <td>0.636364</td>\n",
       "    </tr>\n",
       "    <tr>\n",
       "      <th>8</th>\n",
       "      <td>270</td>\n",
       "      <td>0.10</td>\n",
       "      <td>0.5</td>\n",
       "      <td>28</td>\n",
       "      <td>26</td>\n",
       "      <td>18</td>\n",
       "      <td>15</td>\n",
       "      <td>0.071429</td>\n",
       "      <td>0.357143</td>\n",
       "      <td>0.464286</td>\n",
       "    </tr>\n",
       "    <tr>\n",
       "      <th>9</th>\n",
       "      <td>300</td>\n",
       "      <td>0.10</td>\n",
       "      <td>0.6</td>\n",
       "      <td>20</td>\n",
       "      <td>20</td>\n",
       "      <td>13</td>\n",
       "      <td>8</td>\n",
       "      <td>0.000000</td>\n",
       "      <td>0.350000</td>\n",
       "      <td>0.600000</td>\n",
       "    </tr>\n",
       "  </tbody>\n",
       "</table>\n",
       "</div>"
      ],
      "text/plain": [
       "   g_time   act  g_per  all_sum_test  calibrated_Y1_test  calibrated_Y2_test  \\\n",
       "0      30  0.10    0.3             1                   1                   0   \n",
       "1      90  0.10    0.1             4                   4                   3   \n",
       "2     150  0.05    0.3             3                   3                   2   \n",
       "3     150  0.15    0.1             5                   5                   1   \n",
       "4     210  0.05    0.6            14                  14                  13   \n",
       "5     240  0.10    0.5            25                  23                  11   \n",
       "6     270  0.05    0.6            24                  24                  18   \n",
       "7     270  0.10    0.4            11                  10                   5   \n",
       "8     270  0.10    0.5            28                  26                  18   \n",
       "9     300  0.10    0.6            20                  20                  13   \n",
       "\n",
       "   calibrated_Y3_test  uncertainty_degree_Y1  uncertainty_degree_Y2  \\\n",
       "0                   0               0.000000               1.000000   \n",
       "1                   3               0.000000               0.250000   \n",
       "2                   3               0.000000               0.333333   \n",
       "3                   2               0.000000               0.800000   \n",
       "4                   6               0.000000               0.071429   \n",
       "5                   8               0.080000               0.560000   \n",
       "6                  12               0.000000               0.250000   \n",
       "7                   4               0.090909               0.545455   \n",
       "8                  15               0.071429               0.357143   \n",
       "9                   8               0.000000               0.350000   \n",
       "\n",
       "   uncertainty_degree_Y3  \n",
       "0               1.000000  \n",
       "1               0.250000  \n",
       "2               0.000000  \n",
       "3               0.600000  \n",
       "4               0.571429  \n",
       "5               0.680000  \n",
       "6               0.500000  \n",
       "7               0.636364  \n",
       "8               0.464286  \n",
       "9               0.600000  "
      ]
     },
     "execution_count": 249,
     "metadata": {},
     "output_type": "execute_result"
    }
   ],
   "source": [
    "filtered_data_for_accuracy_tr_result"
   ]
  }
 ],
 "metadata": {
  "kernelspec": {
   "display_name": "Python 3 (ipykernel)",
   "language": "python",
   "name": "python3"
  },
  "language_info": {
   "codemirror_mode": {
    "name": "ipython",
    "version": 3
   },
   "file_extension": ".py",
   "mimetype": "text/x-python",
   "name": "python",
   "nbconvert_exporter": "python",
   "pygments_lexer": "ipython3",
   "version": "3.10.3"
  }
 },
 "nbformat": 4,
 "nbformat_minor": 5
}
